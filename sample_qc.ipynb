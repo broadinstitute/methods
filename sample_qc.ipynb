{
 "cells": [
  {
   "cell_type": "markdown",
   "metadata": {},
   "source": [
    " <h1><center>IBD</center></h1>\n",
    "\n",
    "<center>The purpose of this notebook is to export plink files given a file of samples and vcfs.</center>\n"
   ]
  },
  {
   "cell_type": "markdown",
   "metadata": {},
   "source": [
    "## Load Hail and Python Modules"
   ]
  },
  {
   "cell_type": "code",
   "execution_count": 3,
   "metadata": {},
   "outputs": [
    {
     "name": "stderr",
     "output_type": "stream",
     "text": [
      "Running on Apache Spark version 2.2.0\n",
      "SparkUI available at http://10.128.0.19:4040\n",
      "Welcome to\n",
      "     __  __     <>__\n",
      "    / /_/ /__  __/ /\n",
      "   / __  / _ `/ / /\n",
      "  /_/ /_/\\_,_/_/_/   version devel-c3bd118\n",
      "NOTE: This is a beta version. Interfaces may change\n",
      "  during the beta period. We also recommend pulling\n",
      "  the latest changes weekly.\n"
     ]
    }
   ],
   "source": [
    "import hail as hl\n",
    "import hail.expr.aggregators as agg\n",
    "hl.init()"
   ]
  },
  {
   "cell_type": "markdown",
   "metadata": {},
   "source": [
    "Load python modules\n",
    "\n",
    "NOTE: How do u install other python modules?"
   ]
  },
  {
   "cell_type": "code",
   "execution_count": 9,
   "metadata": {},
   "outputs": [],
   "source": [
    "import numpy as np\n",
    "import re\n",
    "import logging\n",
    "import pandas as pd\n",
    "import matplotlib.pyplot as plt\n",
    "import matplotlib.patches as mpatches\n",
    "from collections import Counter, defaultdict\n",
    "from os.path import basename, splitext\n",
    "from math import log, isnan\n",
    "from pprint import pprint\n",
    "%matplotlib inline\n",
    "logging.basicConfig(level=logging.INFO, format='%(asctime)s: %(message)s', datefmt='%m/%d/%Y %I:%M:%S %p')"
   ]
  },
  {
   "cell_type": "markdown",
   "metadata": {},
   "source": [
    "## Maintain Dictionary of Translated VCF Locations\n",
    "NOTE: Or store maintained locations in a text file\n",
    "\n",
    "remove test dictionary later!!!!"
   ]
  },
  {
   "cell_type": "code",
   "execution_count": 10,
   "metadata": {},
   "outputs": [],
   "source": [
    "vcf_locations={\"/seq/dax/CMG_MYOSEQ/Exome/v4/CMG_MYOSEQ.vcf.gz\":\"gs://seqr-datasets/GRCh37/cmg_sankaran_wes/CMG_MYOSEQ.vcf.gz\",\n",
    "\"https://portal.firecloud.org/#workspaces/broad-genomics-data/CMG_RGP_Broad_MacArthur_RareDisease_WGS_Callsets_v2/data\":\"gs://seqr-datasets/GRCh38/cmg_chung_wgs_sep2017/CMG_RGP_Broad_MacArthur_RareDisease_WGS_Callsets_v2.vcf.gz\"\n",
    "}"
   ]
  },
  {
   "cell_type": "markdown",
   "metadata": {},
   "source": [
    "## Prep Sample List\n",
    "Generate dictionary where keys are unique vcfs and values are a list a samples you want subsetted from that vcf"
   ]
  },
  {
   "cell_type": "code",
   "execution_count": 11,
   "metadata": {},
   "outputs": [],
   "source": [
    "infile=\"gs://seqr-dbgap/ibd_mar2018.txt\"\n",
    "OUT_MISSING=hl.hadoop_open(\"gs://seqr-dbgap/test/missing_vcfs.txt\",'w')\n",
    "OUT_INCLUDED=hl.hadoop_open(\"gs://seqr-dbgap/test/included_vcfs.txt\",'w')\n",
    "samples=defaultdict(list)\n",
    "\n",
    "with hl.hadoop_open(infile,'r') as IN:\n",
    "    next(IN) #skip header\n",
    "    for line in IN:\n",
    "        line=line.rstrip()\n",
    "        items=line.split('\\t')\n",
    "        subject,sample,sample_type,vcf=items[0:4]\n",
    "        if sample !=\".\":\n",
    "            if vcf==\".\":\n",
    "                OUT_MISSING.write(line + '\\n') # write samples that don't have a vcf path\n",
    "            else:\n",
    "                vcf_location=vcf_locations[vcf]\n",
    "                samples[vcf_location].append(sample) # write samples that will be processed\n",
    "                OUT_INCLUDED.write(line + '\\n')\n",
    "\n",
    "OUT_MISSING.close()\n",
    "OUT_INCLUDED.close()"
   ]
  },
  {
   "cell_type": "markdown",
   "metadata": {},
   "source": [
    "## Use Test Dataset---REMOVE LATER"
   ]
  },
  {
   "cell_type": "code",
   "execution_count": 12,
   "metadata": {},
   "outputs": [],
   "source": [
    "samples=defaultdict(list)\n",
    "#samples[\"MAN_0753_01\"].append(\"MAN_0753_01\")\n",
    "#samples[\"MAN_0753_02\"].append(\"MAN_0753_02\")\n",
    "#samples[\"MAN_0753_03\"].append(\"MAN_0753_03\")\n",
    "\n",
    "samples[\"gs://seqr-dbgap/subsetted_test2.vcf.gz\"].append(\"MAN_0753_01_1\")\n",
    "samples[\"gs://seqr-dbgap/subsetted_test3.vcf.gz\"].append(\"MAN_0753_02_1\")\n",
    "samples[\"gs://seqr-dbgap/subsetted_test4.vcf.gz\"].append(\"MAN_0753_03_1\")\n",
    "\n",
    "vcf_locations={\"MAN_0753_01_1\":\"gs://seqr-dbgap/subsetted_test2.mt\",\n",
    "               \"MAN_0753_02_1\":\"gs://seqr-dbgap/subsetted_test3.mt\",\n",
    "               \"MAN_0753_03_1\":\"gs://seqr-dbgap/subsetted_test4.mt\"\n",
    "              }"
   ]
  },
  {
   "cell_type": "markdown",
   "metadata": {},
   "source": [
    "## Functions\n",
    "Fucntions to\n",
    "1) read in a vcf and write out a matrix table and \n",
    "2) to read in and join two matrix tables then count the number of variants in the resulting merged mt\n",
    "\n",
    "NOTE: Add in a check for GRCH 38?"
   ]
  },
  {
   "cell_type": "code",
   "execution_count": 13,
   "metadata": {},
   "outputs": [],
   "source": [
    "def generate_mt(vcf,outpath):\n",
    "    # pull basename:\n",
    "    file=basename(vcf)\n",
    "    file_name=splitext(file)[0]\n",
    "    logging.info(\"Generating matrix table for {file}...\".format(**locals())) # would be nice to print this to a file but don't know how\n",
    "    \n",
    "    # import vcf and write vds\n",
    "    hl.import_vcf(vcf,force_bgz=True,reference_genome=\"GRCh38\",min_partitions=4).write(\"{outpath}/{file_name}.mt\".format(**locals()), overwrite=True)\n",
    "\n",
    "def join_mt(input_vcf,sample_keep_list,outpath,first):\n",
    "    file=basename(input_vcf)\n",
    "    file_name=splitext(file)[0]\n",
    "    file_name=re.sub(\".vcf\",\"\",file_name)\n",
    "    input_mt=outpath+\"/\"+file_name+\".mt\"\n",
    "    logging.info(\"Subsetting and merging in {input_mt}...\".format(**locals()))\n",
    "\n",
    "    \n",
    "    mt = hl.read_matrix_table(input_mt)\n",
    "    \n",
    "    # subset to samples given in the list\n",
    "    set_to_keep = hl.literal(sample_keep_list)\n",
    "    mt_subset= mt.filter_cols(set_to_keep.contains(mt['s']))\n",
    "\n",
    "    # filter to SNV and biallelics\n",
    "    snv_mt = mt_subset.filter_rows((hl.len(mt_subset.alleles) == 2) & hl.is_snp(mt_subset.alleles[0], mt_subset.alleles[1]))\n",
    "    \n",
    "    # merge the matrix tables\n",
    "    if first==True:\n",
    "        temp_merged_mt = snv_mt\n",
    "    else:\n",
    "        temp_merged_mt = merged_mt.union_cols(snv_mt)\n",
    "      \n",
    "    # print log info\n",
    "    starting_rows=mt.count_rows()\n",
    "    merged_rows=temp_merged_mt.count_rows()\n",
    "    merged_cols=temp_merged_mt.count_cols()\n",
    "    OUT_LOG.write(\"Rows in input file {input_mt}: {starting_rows}\\n\".format(**locals()))\n",
    "    OUT_LOG.write(\"Rows in merged mt: {merged_rows}\\n\".format(**locals()))\n",
    "    OUT_LOG.write(\"Samples in merged mt: {merged_cols}\\n\\n\".format(**locals()))\n",
    "\n",
    "    print(\"MERGE COMPLETE\")\n",
    "    return temp_merged_mt"
   ]
  },
  {
   "cell_type": "markdown",
   "metadata": {},
   "source": [
    "## Generate and Join Matrix Tables"
   ]
  },
  {
   "cell_type": "code",
   "execution_count": 12,
   "metadata": {},
   "outputs": [],
   "source": [
    "# can add in a if exists VDS step but that won't account for version issues\n",
    "# union_col act as an inner join\n",
    "# better to test a subset of cols or a subset or rows"
   ]
  },
  {
   "cell_type": "markdown",
   "metadata": {},
   "source": [
    "## Generate Matrix Table"
   ]
  },
  {
   "cell_type": "code",
   "execution_count": 16,
   "metadata": {},
   "outputs": [],
   "source": [
    "OUT_LOG=hl.hadoop_open(\"gs://seqr-dbgap/test/log_progress.txt\",'w')\n",
    "outdir=\"gs://seqr-dbgap\"\n",
    "make_mt=False # set to False if the mt already exists and want to skip this step\n",
    "\n",
    "#comment out in new cell\n",
    "if make_mt==True:\n",
    "    for vcf in samples:\n",
    "        print(vcf)\n",
    "        samples_to_subset=samples[vcf]\n",
    "        if make_mt==True:\n",
    "            generate_mt(vcf,outdir)"
   ]
  },
  {
   "cell_type": "markdown",
   "metadata": {},
   "source": [
    "## Join Matrix Table"
   ]
  },
  {
   "cell_type": "code",
   "execution_count": 17,
   "metadata": {
    "scrolled": true
   },
   "outputs": [
    {
     "name": "stderr",
     "output_type": "stream",
     "text": [
      "04/05/2018 06:41:35 PM: Subsetting and merging in gs://seqr-dbgap/subsetted_test2.mt...\n",
      "04/05/2018 06:42:27 PM: Subsetting and merging in gs://seqr-dbgap/subsetted_test3.mt...\n"
     ]
    },
    {
     "name": "stdout",
     "output_type": "stream",
     "text": [
      "MERGE COMPLETE\n"
     ]
    },
    {
     "name": "stderr",
     "output_type": "stream",
     "text": [
      "04/05/2018 06:45:18 PM: Subsetting and merging in gs://seqr-dbgap/subsetted_test4.mt...\n"
     ]
    },
    {
     "name": "stdout",
     "output_type": "stream",
     "text": [
      "MERGE COMPLETE\n",
      "MERGE COMPLETE\n"
     ]
    }
   ],
   "source": [
    "first=True\n",
    "for vcf in samples:\n",
    "    samples_to_subset=samples[vcf]\n",
    "    merged_mt=join_mt(vcf,samples_to_subset,outdir,first)\n",
    "    first=False # after first mt has been processed, set first to false"
   ]
  },
  {
   "cell_type": "code",
   "execution_count": null,
   "metadata": {},
   "outputs": [],
   "source": [
    "#mm=hl.read_matrix_table(\"gs://seqr-dbgap/subsetted_test5.mt\")"
   ]
  },
  {
   "cell_type": "markdown",
   "metadata": {},
   "source": [
    "## Check the Data"
   ]
  },
  {
   "cell_type": "code",
   "execution_count": 19,
   "metadata": {},
   "outputs": [],
   "source": [
    "mm=merged_mt"
   ]
  },
  {
   "cell_type": "code",
   "execution_count": 15,
   "metadata": {},
   "outputs": [
    {
     "data": {
      "text/plain": [
       "7817182"
      ]
     },
     "execution_count": 15,
     "metadata": {},
     "output_type": "execute_result"
    }
   ],
   "source": [
    "mm.count_rows()"
   ]
  },
  {
   "cell_type": "code",
   "execution_count": 35,
   "metadata": {},
   "outputs": [
    {
     "data": {
      "text/plain": [
       "3"
      ]
     },
     "execution_count": 35,
     "metadata": {},
     "output_type": "execute_result"
    }
   ],
   "source": [
    "mm.count_cols()"
   ]
  },
  {
   "cell_type": "code",
   "execution_count": 17,
   "metadata": {},
   "outputs": [
    {
     "name": "stdout",
     "output_type": "stream",
     "text": [
      "+---------------+------------+\n",
      "| locus         | alleles    |\n",
      "+---------------+------------+\n",
      "| locus<GRCh38> | array<str> |\n",
      "+---------------+------------+\n",
      "| chr1:10492    | [\"C\",\"T\"]  |\n",
      "| chr1:10622    | [\"T\",\"G\"]  |\n",
      "| chr1:10623    | [\"T\",\"C\"]  |\n",
      "| chr1:10904    | [\"G\",\"A\"]  |\n",
      "| chr1:10927    | [\"A\",\"G\"]  |\n",
      "+---------------+------------+\n",
      "showing top 5 rows\n",
      "\n"
     ]
    }
   ],
   "source": [
    "mm.rows().select('locus', 'alleles').show(5)"
   ]
  },
  {
   "cell_type": "markdown",
   "metadata": {},
   "source": [
    "Here is how to peek at the first few sample IDs:"
   ]
  },
  {
   "cell_type": "code",
   "execution_count": 18,
   "metadata": {
    "scrolled": true
   },
   "outputs": [
    {
     "name": "stdout",
     "output_type": "stream",
     "text": [
      "+---------------+\n",
      "| s             |\n",
      "+---------------+\n",
      "| str           |\n",
      "+---------------+\n",
      "| MAN_0753_01_1 |\n",
      "| MAN_0753_02_1 |\n",
      "| MAN_0753_03_1 |\n",
      "+---------------+\n",
      "\n"
     ]
    }
   ],
   "source": [
    "mm.s.show(10)"
   ]
  },
  {
   "cell_type": "markdown",
   "metadata": {},
   "source": [
    "To look at the first few genotype calls, we can use [entries](https://hail.is/docs/devel/hail.MatrixTable.html#hail.MatrixTable.entries) along with `select` and `take`. The `take` method collects the first n rows into a list. Alternatively, we can use the `show` method, which prints the first n rows to the console in a table format. \n",
    "|\n",
    "Try changing `take` to `show` in the cell below."
   ]
  },
  {
   "cell_type": "code",
   "execution_count": 19,
   "metadata": {},
   "outputs": [
    {
     "data": {
      "text/plain": [
       "[Struct(AD=[7, 3], DP=10, GQ=56, GT=0/1, MIN_DP=None, PGT=None, PID=None, PL=[56, 0, 138], RGQ=None, SB=None),\n",
       " Struct(AD=[17, 0], DP=17, GQ=51, GT=0/0, MIN_DP=None, PGT=None, PID=None, PL=[0, 51, 571], RGQ=None, SB=None),\n",
       " Struct(AD=[5, 3], DP=8, GQ=80, GT=0/1, MIN_DP=None, PGT=None, PID=None, PL=[80, 0, 127], RGQ=None, SB=None),\n",
       " Struct(AD=[0, 2], DP=2, GQ=9, GT=1/1, MIN_DP=None, PGT=['1|1'], PID=['10622_T_G'], PL=[100, 9, 0], RGQ=None, SB=None),\n",
       " Struct(AD=[3, 0], DP=3, GQ=None, GT=None, MIN_DP=None, PGT=None, PID=None, PL=[0, 0, 0], RGQ=None, SB=None)]"
      ]
     },
     "execution_count": 19,
     "metadata": {},
     "output_type": "execute_result"
    }
   ],
   "source": [
    "mm.entry.take(5)"
   ]
  },
  {
   "cell_type": "code",
   "execution_count": 44,
   "metadata": {
    "scrolled": false
   },
   "outputs": [
    {
     "name": "stdout",
     "output_type": "stream",
     "text": [
      "+---------------+----------------+----------------+--------------+-----------+\n",
      "| locus         | alleles        | s              | <expr>.AD    | <expr>.DP |\n",
      "+---------------+----------------+----------------+--------------+-----------+\n",
      "| locus<GRCh38> | array<str>     | str            | array<int32> |     int32 |\n",
      "+---------------+----------------+----------------+--------------+-----------+\n",
      "| chr1:10109    | [\"AACCCT\",\"A\"] | MAN_0063_01_01 | [69,0]       |        69 |\n",
      "| chr1:10109    | [\"AACCCT\",\"A\"] | MAN_0510_01_1  | [89,0]       |        89 |\n",
      "| chr1:10109    | [\"AACCCT\",\"A\"] | MAN_0510_02_1  | [74,0]       |        74 |\n",
      "| chr1:10109    | [\"AACCCT\",\"A\"] | MAN_0510_03_1  | [87,0]       |        87 |\n",
      "| chr1:10109    | [\"AACCCT\",\"A\"] | MAN_0753_01_1  | [64,0]       |        64 |\n",
      "+---------------+----------------+----------------+--------------+-----------+\n",
      "\n",
      "+-----------+-----------+---------------+------------+------------+--------------+\n",
      "| <expr>.GQ | <expr>.GT | <expr>.MIN_DP | <expr>.PGT | <expr>.PID | <expr>.PL    |\n",
      "+-----------+-----------+---------------+------------+------------+--------------+\n",
      "|     int32 | call      |         int32 | array<str> | array<str> | array<int32> |\n",
      "+-----------+-----------+---------------+------------+------------+--------------+\n",
      "|         0 | 0/0       |            NA | null       | null       | [0,0,833]    |\n",
      "|         0 | 0/0       |            NA | null       | null       | [0,0,1319]   |\n",
      "|         0 | 0/0       |            NA | null       | null       | [0,0,1335]   |\n",
      "|         0 | 0/0       |            NA | null       | null       | [0,0,1060]   |\n",
      "|         0 | 0/0       |            NA | null       | null       | [0,0,1079]   |\n",
      "+-----------+-----------+---------------+------------+------------+--------------+\n",
      "\n",
      "+------------+--------------+\n",
      "| <expr>.RGQ | <expr>.SB    |\n",
      "+------------+--------------+\n",
      "|      int32 | array<int32> |\n",
      "+------------+--------------+\n",
      "|         NA | null         |\n",
      "|         NA | null         |\n",
      "|         NA | null         |\n",
      "|         NA | null         |\n",
      "|         NA | null         |\n",
      "+------------+--------------+\n",
      "showing top 5 rows\n",
      "\n"
     ]
    }
   ],
   "source": [
    "mm.entry.show(5)"
   ]
  },
  {
   "cell_type": "code",
   "execution_count": 20,
   "metadata": {},
   "outputs": [
    {
     "name": "stdout",
     "output_type": "stream",
     "text": [
      "----------------------------------------\n",
      "Global fields:\n",
      "    None\n",
      "----------------------------------------\n",
      "Column fields:\n",
      "    's': str \n",
      "----------------------------------------\n",
      "Row fields:\n",
      "    'locus': locus<GRCh38> \n",
      "    'alleles': array<str> \n",
      "    'rsid': str \n",
      "    'qual': float64 \n",
      "    'filters': set<str> \n",
      "    'info': struct {\n",
      "        AC: array<int32>, \n",
      "        AF: array<float64>, \n",
      "        AN: int32, \n",
      "        BaseQRankSum: float64, \n",
      "        ClippingRankSum: float64, \n",
      "        DB: bool, \n",
      "        DP: int32, \n",
      "        END: int32, \n",
      "        ExcessHet: float64, \n",
      "        FS: float64, \n",
      "        InbreedingCoeff: float64, \n",
      "        MLEAC: array<int32>, \n",
      "        MLEAF: array<float64>, \n",
      "        MQ: float64, \n",
      "        MQRankSum: float64, \n",
      "        NEGATIVE_TRAIN_SITE: bool, \n",
      "        POSITIVE_TRAIN_SITE: bool, \n",
      "        QD: float64, \n",
      "        RAW_MQ: float64, \n",
      "        ReadPosRankSum: float64, \n",
      "        SOR: float64, \n",
      "        VQSLOD: float64, \n",
      "        culprit: str\n",
      "    } \n",
      "----------------------------------------\n",
      "Entry fields:\n",
      "    'AD': array<int32> \n",
      "    'DP': int32 \n",
      "    'GQ': int32 \n",
      "    'GT': call \n",
      "    'MIN_DP': int32 \n",
      "    'PGT': array<str> \n",
      "    'PID': array<str> \n",
      "    'PL': array<int32> \n",
      "    'RGQ': int32 \n",
      "    'SB': array<int32> \n",
      "----------------------------------------\n",
      "Column key:\n",
      "    's': str \n",
      "Row key:\n",
      "    'locus': locus<GRCh38> \n",
      "    'alleles': array<str> \n",
      "Partition key:\n",
      "    'locus': locus<GRCh38> \n",
      "----------------------------------------\n"
     ]
    }
   ],
   "source": [
    "mm.describe()"
   ]
  },
  {
   "cell_type": "markdown",
   "metadata": {},
   "source": [
    "## Filter to SNVs and Biallelics\n",
    "Need a filter step here to make sure merging the matrix tables didn't not generate any new multiallelic sites"
   ]
  },
  {
   "cell_type": "code",
   "execution_count": 21,
   "metadata": {},
   "outputs": [],
   "source": [
    "mm = mm.filter_rows((hl.len(mm.alleles) == 2) & hl.is_snp(mm.alleles[0], mm.alleles[1]))"
   ]
  },
  {
   "cell_type": "code",
   "execution_count": 22,
   "metadata": {},
   "outputs": [
    {
     "name": "stderr",
     "output_type": "stream",
     "text": [
      "04/04/2018 07:39:58 PM: Filtering to SNVs and biallelics\n"
     ]
    },
    {
     "data": {
      "text/plain": [
       "45"
      ]
     },
     "execution_count": 22,
     "metadata": {},
     "output_type": "execute_result"
    }
   ],
   "source": [
    "#Count variants checkpoint\n",
    "num_rows=mm.count_rows()\n",
    "logging.info(\"Filtering to SNVs and biallelics\")\n",
    "OUT_LOG.write(\"Rows after SNV/biallelic filter: {num_rows}...\\n\\n\".format(**locals()))"
   ]
  },
  {
   "cell_type": "markdown",
   "metadata": {},
   "source": [
    "## LD Prune Results\n",
    "SET R2?, \n",
    "\n",
    "WHEN TO WRITE OUT NEW MT, \n",
    "\n",
    "how to decide ncores,\n",
    "\n",
    "what is window"
   ]
  },
  {
   "cell_type": "code",
   "execution_count": 23,
   "metadata": {},
   "outputs": [
    {
     "name": "stderr",
     "output_type": "stream",
     "text": [
      "2018-04-04 19:42:43 Hail: INFO: Running LD prune with nSamples=3, nVariants=7817182, nPartitions=10, and maxQueueSize=1315861.\n",
      "2018-04-04 19:44:55 Hail: INFO: LD prune step 1 of 3: nVariantsKept=4873, nPartitions=10, time=2m12.6s\n",
      "2018-04-04 19:44:57 Hail: INFO: LD prune step 2 of 3: nVariantsKept=4861, nPartitions=15, time=1.711s\n",
      "2018-04-04 19:44:58 Hail: INFO: LD prune step 3 of 3: nVariantsKept=4861, time=794.468ms\n"
     ]
    }
   ],
   "source": [
    "mm = hl.methods.ld_prune(mm,5,r2=0.1, window=1000000,memory_per_core=256)"
   ]
  },
  {
   "cell_type": "code",
   "execution_count": 24,
   "metadata": {},
   "outputs": [
    {
     "name": "stderr",
     "output_type": "stream",
     "text": [
      "04/04/2018 07:48:05 PM: LD prunning...\n"
     ]
    },
    {
     "data": {
      "text/plain": [
       "32"
      ]
     },
     "execution_count": 24,
     "metadata": {},
     "output_type": "execute_result"
    }
   ],
   "source": [
    "#Count variants checkpoint\n",
    "num_rows=mm.count_rows()\n",
    "logging.info(\"LD prunning...\")\n",
    "OUT_LOG.write(\"Rows after LD pruning: {num_rows}...\\n\\n\".format(**locals()))"
   ]
  },
  {
   "cell_type": "markdown",
   "metadata": {},
   "source": [
    "## Recompute AF\n",
    "NOTE: should this be in it's own column or replace the INFO field"
   ]
  },
  {
   "cell_type": "code",
   "execution_count": 25,
   "metadata": {},
   "outputs": [],
   "source": [
    "mm = mm.annotate_rows(ac = hl.agg.sum(mm.GT.n_alt_alleles()),\n",
    "                                an=2 * hl.agg.count_where(hl.is_defined(mm.GT)))"
   ]
  },
  {
   "cell_type": "code",
   "execution_count": 26,
   "metadata": {},
   "outputs": [],
   "source": [
    "mm = mm.annotate_rows(af=mm.ac/mm.an)"
   ]
  },
  {
   "cell_type": "code",
   "execution_count": 27,
   "metadata": {},
   "outputs": [
    {
     "name": "stdout",
     "output_type": "stream",
     "text": [
      "----------------------------------------\n",
      "Global fields:\n",
      "    None\n",
      "----------------------------------------\n",
      "Column fields:\n",
      "    's': str \n",
      "----------------------------------------\n",
      "Row fields:\n",
      "    'locus': locus<GRCh38> \n",
      "    'alleles': array<str> \n",
      "    'rsid': str \n",
      "    'qual': float64 \n",
      "    'filters': set<str> \n",
      "    'info': struct {\n",
      "        AC: array<int32>, \n",
      "        AF: array<float64>, \n",
      "        AN: int32, \n",
      "        BaseQRankSum: float64, \n",
      "        ClippingRankSum: float64, \n",
      "        DB: bool, \n",
      "        DP: int32, \n",
      "        END: int32, \n",
      "        ExcessHet: float64, \n",
      "        FS: float64, \n",
      "        InbreedingCoeff: float64, \n",
      "        MLEAC: array<int32>, \n",
      "        MLEAF: array<float64>, \n",
      "        MQ: float64, \n",
      "        MQRankSum: float64, \n",
      "        NEGATIVE_TRAIN_SITE: bool, \n",
      "        POSITIVE_TRAIN_SITE: bool, \n",
      "        QD: float64, \n",
      "        RAW_MQ: float64, \n",
      "        ReadPosRankSum: float64, \n",
      "        SOR: float64, \n",
      "        VQSLOD: float64, \n",
      "        culprit: str\n",
      "    } \n",
      "    'ac': int32 \n",
      "    'an': int64 \n",
      "    'af': float32 \n",
      "----------------------------------------\n",
      "Entry fields:\n",
      "    'AD': array<int32> \n",
      "    'DP': int32 \n",
      "    'GQ': int32 \n",
      "    'GT': call \n",
      "    'MIN_DP': int32 \n",
      "    'PGT': array<str> \n",
      "    'PID': array<str> \n",
      "    'PL': array<int32> \n",
      "    'RGQ': int32 \n",
      "    'SB': array<int32> \n",
      "----------------------------------------\n",
      "Column key:\n",
      "    's': str \n",
      "Row key:\n",
      "    'locus': locus<GRCh38> \n",
      "    'alleles': array<str> \n",
      "Partition key:\n",
      "    'locus': locus<GRCh38> \n",
      "----------------------------------------\n"
     ]
    },
    {
     "data": {
      "text/plain": [
       "3"
      ]
     },
     "execution_count": 27,
     "metadata": {},
     "output_type": "execute_result"
    }
   ],
   "source": [
    "mm.describe()\n",
    "mm.count_cols()"
   ]
  },
  {
   "cell_type": "code",
   "execution_count": 28,
   "metadata": {},
   "outputs": [],
   "source": [
    "mm.head(3)\n",
    "OUT_LOG.close()"
   ]
  },
  {
   "cell_type": "markdown",
   "metadata": {},
   "source": [
    "## Plot AF\n",
    "Generate a histogram plot of population allele frequencies"
   ]
  },
  {
   "cell_type": "code",
   "execution_count": 29,
   "metadata": {},
   "outputs": [
    {
     "data": {
      "text/html": [
       "<div>\n",
       "<style scoped>\n",
       "    .dataframe tbody tr th:only-of-type {\n",
       "        vertical-align: middle;\n",
       "    }\n",
       "\n",
       "    .dataframe tbody tr th {\n",
       "        vertical-align: top;\n",
       "    }\n",
       "\n",
       "    .dataframe thead th {\n",
       "        text-align: right;\n",
       "    }\n",
       "</style>\n",
       "<table border=\"1\" class=\"dataframe\">\n",
       "  <thead>\n",
       "    <tr style=\"text-align: right;\">\n",
       "      <th></th>\n",
       "      <th>locus.contig</th>\n",
       "      <th>locus.position</th>\n",
       "      <th>alleles</th>\n",
       "      <th>rsid</th>\n",
       "      <th>qual</th>\n",
       "      <th>filters</th>\n",
       "      <th>info.AC</th>\n",
       "      <th>info.AF</th>\n",
       "      <th>info.AN</th>\n",
       "      <th>info.BaseQRankSum</th>\n",
       "      <th>...</th>\n",
       "      <th>info.POSITIVE_TRAIN_SITE</th>\n",
       "      <th>info.QD</th>\n",
       "      <th>info.RAW_MQ</th>\n",
       "      <th>info.ReadPosRankSum</th>\n",
       "      <th>info.SOR</th>\n",
       "      <th>info.VQSLOD</th>\n",
       "      <th>info.culprit</th>\n",
       "      <th>ac</th>\n",
       "      <th>an</th>\n",
       "      <th>af</th>\n",
       "    </tr>\n",
       "  </thead>\n",
       "  <tbody>\n",
       "    <tr>\n",
       "      <th>0</th>\n",
       "      <td>chr1</td>\n",
       "      <td>10492</td>\n",
       "      <td>[C, T]</td>\n",
       "      <td>rs55998931</td>\n",
       "      <td>1054.11</td>\n",
       "      <td>[VQSRTrancheSNP99.90to100.00+]</td>\n",
       "      <td>[2]</td>\n",
       "      <td>[0.143]</td>\n",
       "      <td>14</td>\n",
       "      <td>-0.118</td>\n",
       "      <td>...</td>\n",
       "      <td>None</td>\n",
       "      <td>4.47</td>\n",
       "      <td>None</td>\n",
       "      <td>0.000</td>\n",
       "      <td>0.842</td>\n",
       "      <td>-5.619</td>\n",
       "      <td>QD</td>\n",
       "      <td>2</td>\n",
       "      <td>6</td>\n",
       "      <td>0.333333</td>\n",
       "    </tr>\n",
       "    <tr>\n",
       "      <th>1</th>\n",
       "      <td>chr1</td>\n",
       "      <td>10622</td>\n",
       "      <td>[T, G]</td>\n",
       "      <td>None</td>\n",
       "      <td>2729.00</td>\n",
       "      <td>[VQSRTrancheSNP99.90to100.00+]</td>\n",
       "      <td>[4]</td>\n",
       "      <td>[0.5]</td>\n",
       "      <td>8</td>\n",
       "      <td>1.060</td>\n",
       "      <td>...</td>\n",
       "      <td>None</td>\n",
       "      <td>11.05</td>\n",
       "      <td>None</td>\n",
       "      <td>-0.736</td>\n",
       "      <td>3.702</td>\n",
       "      <td>-227.300</td>\n",
       "      <td>FS</td>\n",
       "      <td>2</td>\n",
       "      <td>4</td>\n",
       "      <td>0.500000</td>\n",
       "    </tr>\n",
       "    <tr>\n",
       "      <th>2</th>\n",
       "      <td>chr1</td>\n",
       "      <td>1021618</td>\n",
       "      <td>[C, T]</td>\n",
       "      <td>rs138605419</td>\n",
       "      <td>6282.30</td>\n",
       "      <td>[]</td>\n",
       "      <td>[3]</td>\n",
       "      <td>[0.214]</td>\n",
       "      <td>14</td>\n",
       "      <td>0.689</td>\n",
       "      <td>...</td>\n",
       "      <td>None</td>\n",
       "      <td>15.40</td>\n",
       "      <td>None</td>\n",
       "      <td>0.520</td>\n",
       "      <td>0.690</td>\n",
       "      <td>16.060</td>\n",
       "      <td>DP</td>\n",
       "      <td>3</td>\n",
       "      <td>6</td>\n",
       "      <td>0.500000</td>\n",
       "    </tr>\n",
       "    <tr>\n",
       "      <th>3</th>\n",
       "      <td>chr1</td>\n",
       "      <td>1028324</td>\n",
       "      <td>[C, A]</td>\n",
       "      <td>None</td>\n",
       "      <td>96265.52</td>\n",
       "      <td>[ExcessHet]</td>\n",
       "      <td>[8]</td>\n",
       "      <td>[0.571]</td>\n",
       "      <td>14</td>\n",
       "      <td>-0.692</td>\n",
       "      <td>...</td>\n",
       "      <td>None</td>\n",
       "      <td>16.62</td>\n",
       "      <td>None</td>\n",
       "      <td>0.867</td>\n",
       "      <td>0.650</td>\n",
       "      <td>NaN</td>\n",
       "      <td>None</td>\n",
       "      <td>5</td>\n",
       "      <td>6</td>\n",
       "      <td>0.833333</td>\n",
       "    </tr>\n",
       "    <tr>\n",
       "      <th>4</th>\n",
       "      <td>chr1</td>\n",
       "      <td>2028539</td>\n",
       "      <td>[C, T]</td>\n",
       "      <td>rs28409373</td>\n",
       "      <td>235374.55</td>\n",
       "      <td>[]</td>\n",
       "      <td>[6]</td>\n",
       "      <td>[0.429]</td>\n",
       "      <td>14</td>\n",
       "      <td>0.915</td>\n",
       "      <td>...</td>\n",
       "      <td>True</td>\n",
       "      <td>21.13</td>\n",
       "      <td>None</td>\n",
       "      <td>0.307</td>\n",
       "      <td>0.759</td>\n",
       "      <td>6.820</td>\n",
       "      <td>FS</td>\n",
       "      <td>2</td>\n",
       "      <td>6</td>\n",
       "      <td>0.333333</td>\n",
       "    </tr>\n",
       "  </tbody>\n",
       "</table>\n",
       "<p>5 rows × 32 columns</p>\n",
       "</div>"
      ],
      "text/plain": [
       "  locus.contig  locus.position alleles         rsid       qual  \\\n",
       "0         chr1           10492  [C, T]   rs55998931    1054.11   \n",
       "1         chr1           10622  [T, G]         None    2729.00   \n",
       "2         chr1         1021618  [C, T]  rs138605419    6282.30   \n",
       "3         chr1         1028324  [C, A]         None   96265.52   \n",
       "4         chr1         2028539  [C, T]   rs28409373  235374.55   \n",
       "\n",
       "                          filters info.AC  info.AF  info.AN  \\\n",
       "0  [VQSRTrancheSNP99.90to100.00+]     [2]  [0.143]       14   \n",
       "1  [VQSRTrancheSNP99.90to100.00+]     [4]    [0.5]        8   \n",
       "2                              []     [3]  [0.214]       14   \n",
       "3                     [ExcessHet]     [8]  [0.571]       14   \n",
       "4                              []     [6]  [0.429]       14   \n",
       "\n",
       "   info.BaseQRankSum    ...     info.POSITIVE_TRAIN_SITE info.QD  info.RAW_MQ  \\\n",
       "0             -0.118    ...                         None    4.47         None   \n",
       "1              1.060    ...                         None   11.05         None   \n",
       "2              0.689    ...                         None   15.40         None   \n",
       "3             -0.692    ...                         None   16.62         None   \n",
       "4              0.915    ...                         True   21.13         None   \n",
       "\n",
       "  info.ReadPosRankSum  info.SOR  info.VQSLOD  info.culprit ac an        af  \n",
       "0               0.000     0.842       -5.619            QD  2  6  0.333333  \n",
       "1              -0.736     3.702     -227.300            FS  2  4  0.500000  \n",
       "2               0.520     0.690       16.060            DP  3  6  0.500000  \n",
       "3               0.867     0.650          NaN          None  5  6  0.833333  \n",
       "4               0.307     0.759        6.820            FS  2  6  0.333333  \n",
       "\n",
       "[5 rows x 32 columns]"
      ]
     },
     "execution_count": 29,
     "metadata": {},
     "output_type": "execute_result"
    }
   ],
   "source": [
    "df = mm.rows().to_pandas()\n",
    "df.head()"
   ]
  },
  {
   "cell_type": "code",
   "execution_count": 30,
   "metadata": {},
   "outputs": [
    {
     "data": {
      "image/png": "[encoded data removed]",
      "text/plain": [
       "<Figure size 432x288 with 1 Axes>"
      ]
     },
     "metadata": {},
     "output_type": "display_data"
    }
   ],
   "source": [
    "plt.clf()\n",
    "plt.hist(df[\"af\"])\n",
    "plt.xlabel(\"Population AF\")\n",
    "plt.ylabel(\"Frequency\")\n",
    "plt.show()"
   ]
  },
  {
   "cell_type": "markdown",
   "metadata": {},
   "source": [
    "## Export Plink Files\n",
    "don't need to split because already got rid of multiallelics\n",
    "\n",
    "\n",
    "do we want a better fam ID?\n"
   ]
  },
  {
   "cell_type": "code",
   "execution_count": 33,
   "metadata": {},
   "outputs": [
    {
     "name": "stderr",
     "output_type": "stream",
     "text": [
      "2018-04-04 20:01:23 Hail: INFO: while writing:\n",
      "    gs://seqr-dbgap/plink_exports.bed\n",
      "  merge time: 398.974ms\n",
      "2018-04-04 20:03:36 Hail: INFO: while writing:\n",
      "    gs://seqr-dbgap/plink_exports.bim\n",
      "  merge time: 468.287ms\n"
     ]
    }
   ],
   "source": [
    "hl.export_plink(mm, 'gs://seqr-dbgap/plink_exports', fam_id = mm.s, id = mm.s)"
   ]
  },
  {
   "cell_type": "markdown",
   "metadata": {},
   "source": [
    "## Check for Samples Missing from the VCFs"
   ]
  },
  {
   "cell_type": "code",
   "execution_count": 54,
   "metadata": {},
   "outputs": [],
   "source": [
    "samples_in_mt=set(df2.s) # chould somehow collect here (collect_as_set?) but can't figure out how"
   ]
  },
  {
   "cell_type": "code",
   "execution_count": 55,
   "metadata": {},
   "outputs": [
    {
     "name": "stdout",
     "output_type": "stream",
     "text": [
      "{'MAN_0753_01_1', 'MAN_0753_03_1', 'MAN_0753_02_1'}\n"
     ]
    }
   ],
   "source": [
    "print(samples_in_mt)"
   ]
  },
  {
   "cell_type": "code",
   "execution_count": 56,
   "metadata": {},
   "outputs": [],
   "source": [
    "samples2=samples\n",
    "samples2[\"fake\"].append(\"fake_sample\")"
   ]
  },
  {
   "cell_type": "code",
   "execution_count": 71,
   "metadata": {},
   "outputs": [],
   "source": [
    "OUT_MISSED_SAMPLES=hl.hadoop_open(\"gs://seqr-dbgap/test/missing_samples.txt\",'w')\n",
    "\n",
    "for sample_list in samples2.values():\n",
    "    missings=set(sample_list)-samples_in_mt\n",
    "    for i in missings:\n",
    "        OUT_MISSED_SAMPLES.write(i + '\\n')\n",
    "        \n",
    "OUT_MISSED_SAMPLES.close()"
   ]
  },
  {
   "cell_type": "code",
   "execution_count": null,
   "metadata": {},
   "outputs": [],
   "source": [
    "#check for is defined!"
   ]
  }
 ],
 "metadata": {
  "anaconda-cloud": {},
  "kernelspec": {
   "display_name": "Hail",
   "language": "python",
   "name": "hail"
  },
  "language_info": {
   "codemirror_mode": {
    "name": "ipython",
    "version": 3
   },
   "file_extension": ".py",
   "mimetype": "text/x-python",
   "name": "python",
   "nbconvert_exporter": "python",
   "pygments_lexer": "ipython3",
   "version": "3.6.4"
  }
 },
 "nbformat": 4,
 "nbformat_minor": 1
}

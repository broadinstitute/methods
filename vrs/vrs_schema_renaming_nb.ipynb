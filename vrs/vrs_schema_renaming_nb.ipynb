{
 "cells": [
  {
   "cell_type": "code",
   "execution_count": 1,
   "id": "7605f556",
   "metadata": {},
   "outputs": [],
   "source": [
    "# Daniel Marten 05-03-23\n",
    "# Notebook to update column names from GA4GH VRS-Python Branch 0.8.1 to 0.8.2 convention\n",
    "# No changes to contents, only: VRS_Allele -> VRS_Allele_Id VRS_Alt to VRS_State\n",
    "# See: https://github.com/ga4gh/vrs-python/releases/tag/0.8.2 \n",
    "\n",
    "import hail as hl"
   ]
  },
  {
   "cell_type": "code",
   "execution_count": 2,
   "id": "bc4de790",
   "metadata": {},
   "outputs": [
    {
     "name": "stderr",
     "output_type": "stream",
     "text": [
      "Initializing Hail with default parameters...\n",
      "Running on Apache Spark version 3.3.0\n",
      "SparkUI available at http://dm2-m.c.broad-mpg-gnomad.internal:37963\n",
      "Welcome to\n",
      "     __  __     <>__\n",
      "    / /_/ /__  __/ /\n",
      "   / __  / _ `/ / /\n",
      "  /_/ /_/\\_,_/_/_/   version 0.2.113-cf32652c5077\n",
      "LOGGING: writing to /home/hail/hail-20230504-1514-0.2.113-cf32652c5077.log\n"
     ]
    }
   ],
   "source": [
    "# Read in Hail Table to have its GA4GH VRS Schema updated from VRS_Python Branch 0.8.1 to 0.8.2\n",
    "import_path = 'gs://gnomad-vrs-io-finals/ht-outputs/0421_1miltest_v3.1.2-Full-ht-release-output.ht'\n",
    "ht = hl.read_table(import_path)\n",
    "ht = ht.sample(0.01)"
   ]
  },
  {
   "cell_type": "code",
   "execution_count": 3,
   "id": "a90959e4",
   "metadata": {},
   "outputs": [],
   "source": [
    "# Code which actually changes naming schema from VRS-Python Branch 0.8.1 to 0.8.2\n",
    "\n",
    "ht = ht.annotate(\n",
    "        info = ht.info.annotate(\n",
    "                vrs = ht.info.vrs.rename({'VRS_Allele':'VRS_Allele_IDs',\n",
    "                                          'VRS_Start':'VRS_Starts',\n",
    "                                          'VRS_End':'VRS_Ends',\n",
    "                                          'VRS_Alt':'VRS_States'})\n",
    "        )\n",
    "    )"
   ]
  },
  {
   "cell_type": "code",
   "execution_count": 4,
   "id": "46b8a471",
   "metadata": {},
   "outputs": [
    {
     "data": {
      "text/html": [
       "<table><thead><tr><td style=\"white-space: nowrap; max-width: 500px; overflow: hidden; text-overflow: ellipsis; \" colspan=\"1\"><div style=\"text-align: left;\"></div></td><td style=\"white-space: nowrap; max-width: 500px; overflow: hidden; text-overflow: ellipsis; \" colspan=\"1\"><div style=\"text-align: left;\"></div></td><td style=\"white-space: nowrap; max-width: 500px; overflow: hidden; text-overflow: ellipsis; \" colspan=\"4\"><div style=\"text-align: left;\"></div></td></tr><tr><td style=\"white-space: nowrap; max-width: 500px; overflow: hidden; text-overflow: ellipsis; \" colspan=\"1\"><div style=\"text-align: left;\"></div></td><td style=\"white-space: nowrap; max-width: 500px; overflow: hidden; text-overflow: ellipsis; \" colspan=\"1\"><div style=\"text-align: left;\"></div></td><td style=\"white-space: nowrap; max-width: 500px; overflow: hidden; text-overflow: ellipsis; \" colspan=\"4\"><div style=\"text-align: left;border-bottom: solid 2px #000; padding-bottom: 5px\">&lt;expr&gt;</div></td></tr><tr><td style=\"white-space: nowrap; max-width: 500px; overflow: hidden; text-overflow: ellipsis; \" colspan=\"1\"><div style=\"text-align: left;border-bottom: solid 2px #000; padding-bottom: 5px\">locus</div></td><td style=\"white-space: nowrap; max-width: 500px; overflow: hidden; text-overflow: ellipsis; \" colspan=\"1\"><div style=\"text-align: left;border-bottom: solid 2px #000; padding-bottom: 5px\">alleles</div></td><td style=\"white-space: nowrap; max-width: 500px; overflow: hidden; text-overflow: ellipsis; \" colspan=\"1\"><div style=\"text-align: left;border-bottom: solid 2px #000; padding-bottom: 5px\">VRS_Allele_IDs</div></td><td style=\"white-space: nowrap; max-width: 500px; overflow: hidden; text-overflow: ellipsis; \" colspan=\"1\"><div style=\"text-align: left;border-bottom: solid 2px #000; padding-bottom: 5px\">VRS_Starts</div></td><td style=\"white-space: nowrap; max-width: 500px; overflow: hidden; text-overflow: ellipsis; \" colspan=\"1\"><div style=\"text-align: left;border-bottom: solid 2px #000; padding-bottom: 5px\">VRS_Ends</div></td><td style=\"white-space: nowrap; max-width: 500px; overflow: hidden; text-overflow: ellipsis; \" colspan=\"1\"><div style=\"text-align: left;border-bottom: solid 2px #000; padding-bottom: 5px\">VRS_States</div></td></tr><tr><td style=\"white-space: nowrap; max-width: 500px; overflow: hidden; text-overflow: ellipsis; text-align: left;\">locus&lt;GRCh38&gt;</td><td style=\"white-space: nowrap; max-width: 500px; overflow: hidden; text-overflow: ellipsis; text-align: left;\">array&lt;str&gt;</td><td style=\"white-space: nowrap; max-width: 500px; overflow: hidden; text-overflow: ellipsis; text-align: left;\">array&lt;str&gt;</td><td style=\"white-space: nowrap; max-width: 500px; overflow: hidden; text-overflow: ellipsis; text-align: left;\">array&lt;int32&gt;</td><td style=\"white-space: nowrap; max-width: 500px; overflow: hidden; text-overflow: ellipsis; text-align: left;\">array&lt;int32&gt;</td><td style=\"white-space: nowrap; max-width: 500px; overflow: hidden; text-overflow: ellipsis; text-align: left;\">array&lt;str&gt;</td></tr>\n",
       "</thead><tbody><tr><td style=\"white-space: nowrap; max-width: 500px; overflow: hidden; text-overflow: ellipsis; \">chr1:181359</td><td style=\"white-space: nowrap; max-width: 500px; overflow: hidden; text-overflow: ellipsis; \">[&quot;G&quot;,&quot;A&quot;]</td><td style=\"white-space: nowrap; max-width: 500px; overflow: hidden; text-overflow: ellipsis; \">[&quot;ga4gh:VA.eEh6g89W5T6BYEBfqr5iWlCzstrr4prv&quot;,&quot;ga4gh:VA.B39ZMi5XUoXDpQtD99ybfWd1yHVvWbS1&quot;]</td><td style=\"white-space: nowrap; max-width: 500px; overflow: hidden; text-overflow: ellipsis; \">[181358,181358]</td><td style=\"white-space: nowrap; max-width: 500px; overflow: hidden; text-overflow: ellipsis; \">[181359,181359]</td><td style=\"white-space: nowrap; max-width: 500px; overflow: hidden; text-overflow: ellipsis; \">[&quot;G&quot;,&quot;A&quot;]</td></tr>\n",
       "<tr><td style=\"white-space: nowrap; max-width: 500px; overflow: hidden; text-overflow: ellipsis; \">chr1:188025</td><td style=\"white-space: nowrap; max-width: 500px; overflow: hidden; text-overflow: ellipsis; \">[&quot;CT&quot;,&quot;C&quot;]</td><td style=\"white-space: nowrap; max-width: 500px; overflow: hidden; text-overflow: ellipsis; \">[&quot;ga4gh:VA.HKkRXLry1zagNqsl87kCnE8GtpZAwlEk&quot;,&quot;ga4gh:VA.1yuc7shZw62uIMSnSyEhs2o8024o3Lgk&quot;]</td><td style=\"white-space: nowrap; max-width: 500px; overflow: hidden; text-overflow: ellipsis; \">[188024,188025]</td><td style=\"white-space: nowrap; max-width: 500px; overflow: hidden; text-overflow: ellipsis; \">[188026,188026]</td><td style=\"white-space: nowrap; max-width: 500px; overflow: hidden; text-overflow: ellipsis; \">[&quot;CT&quot;,&quot;&quot;]</td></tr>\n",
       "<tr><td style=\"white-space: nowrap; max-width: 500px; overflow: hidden; text-overflow: ellipsis; \">chr1:656991</td><td style=\"white-space: nowrap; max-width: 500px; overflow: hidden; text-overflow: ellipsis; \">[&quot;C&quot;,&quot;A&quot;]</td><td style=\"white-space: nowrap; max-width: 500px; overflow: hidden; text-overflow: ellipsis; \">[&quot;ga4gh:VA.5e-OUKRjOOQDsY-s4VM4REi7QlWYxXH7&quot;,&quot;ga4gh:VA.FP-E9i9g1JWQYY4s_dOrd_SYzzUvdjTu&quot;]</td><td style=\"white-space: nowrap; max-width: 500px; overflow: hidden; text-overflow: ellipsis; \">[656990,656990]</td><td style=\"white-space: nowrap; max-width: 500px; overflow: hidden; text-overflow: ellipsis; \">[656991,656991]</td><td style=\"white-space: nowrap; max-width: 500px; overflow: hidden; text-overflow: ellipsis; \">[&quot;C&quot;,&quot;A&quot;]</td></tr>\n",
       "<tr><td style=\"white-space: nowrap; max-width: 500px; overflow: hidden; text-overflow: ellipsis; \">chr1:784850</td><td style=\"white-space: nowrap; max-width: 500px; overflow: hidden; text-overflow: ellipsis; \">[&quot;T&quot;,&quot;C&quot;]</td><td style=\"white-space: nowrap; max-width: 500px; overflow: hidden; text-overflow: ellipsis; \">[&quot;ga4gh:VA.xvz-aCVre6vRzUWwqgprqk_IaX8dod3f&quot;,&quot;ga4gh:VA.6_yOdU2NGy0m059esikx9YmWZtn8kgWb&quot;]</td><td style=\"white-space: nowrap; max-width: 500px; overflow: hidden; text-overflow: ellipsis; \">[784849,784849]</td><td style=\"white-space: nowrap; max-width: 500px; overflow: hidden; text-overflow: ellipsis; \">[784850,784850]</td><td style=\"white-space: nowrap; max-width: 500px; overflow: hidden; text-overflow: ellipsis; \">[&quot;T&quot;,&quot;C&quot;]</td></tr>\n",
       "<tr><td style=\"white-space: nowrap; max-width: 500px; overflow: hidden; text-overflow: ellipsis; \">chr1:1195500</td><td style=\"white-space: nowrap; max-width: 500px; overflow: hidden; text-overflow: ellipsis; \">[&quot;C&quot;,&quot;CTTTTTTTTTTTTTTTTTTTTTTTTTTT&quot;]</td><td style=\"white-space: nowrap; max-width: 500px; overflow: hidden; text-overflow: ellipsis; \">[&quot;ga4gh:VA.zuu1f6UjSdHuOfgpUnsDjr8Hp1IZR3ZR&quot;,&quot;ga4gh:VA.GDE0YwThYWkYr9I7TDCfAI1EYzH1EjAN&quot;]</td><td style=\"white-space: nowrap; max-width: 500px; overflow: hidden; text-overflow: ellipsis; \">[1195499,1195500]</td><td style=\"white-space: nowrap; max-width: 500px; overflow: hidden; text-overflow: ellipsis; \">[1195500,1195518]</td><td style=\"white-space: nowrap; max-width: 500px; overflow: hidden; text-overflow: ellipsis; \">[&quot;C&quot;,&quot;TTTTTTTTTTTTTTTTTTTTTTTTTTTTTTTTTTTTTTTTTTTTT&quot;]</td></tr>\n",
       "<tr><td style=\"white-space: nowrap; max-width: 500px; overflow: hidden; text-overflow: ellipsis; \">chr1:1437566</td><td style=\"white-space: nowrap; max-width: 500px; overflow: hidden; text-overflow: ellipsis; \">[&quot;T&quot;,&quot;A&quot;]</td><td style=\"white-space: nowrap; max-width: 500px; overflow: hidden; text-overflow: ellipsis; \">[&quot;ga4gh:VA.MGa22tLs4xWOumLLFextoncdocaNPqd9&quot;,&quot;ga4gh:VA.pLE3-w_dyB3B9fYJNVM5ot7kYZ-gCu6p&quot;]</td><td style=\"white-space: nowrap; max-width: 500px; overflow: hidden; text-overflow: ellipsis; \">[1437565,1437565]</td><td style=\"white-space: nowrap; max-width: 500px; overflow: hidden; text-overflow: ellipsis; \">[1437566,1437566]</td><td style=\"white-space: nowrap; max-width: 500px; overflow: hidden; text-overflow: ellipsis; \">[&quot;T&quot;,&quot;A&quot;]</td></tr>\n",
       "<tr><td style=\"white-space: nowrap; max-width: 500px; overflow: hidden; text-overflow: ellipsis; \">chr1:1565352</td><td style=\"white-space: nowrap; max-width: 500px; overflow: hidden; text-overflow: ellipsis; \">[&quot;G&quot;,&quot;C&quot;]</td><td style=\"white-space: nowrap; max-width: 500px; overflow: hidden; text-overflow: ellipsis; \">[&quot;ga4gh:VA.DMBcDb_RePs2pqpQjkU_ceFOOzqMq2b4&quot;,&quot;ga4gh:VA.FuA1UgSggrG3cjNbXamC_YZqK0tmK1ek&quot;]</td><td style=\"white-space: nowrap; max-width: 500px; overflow: hidden; text-overflow: ellipsis; \">[1565351,1565351]</td><td style=\"white-space: nowrap; max-width: 500px; overflow: hidden; text-overflow: ellipsis; \">[1565352,1565352]</td><td style=\"white-space: nowrap; max-width: 500px; overflow: hidden; text-overflow: ellipsis; \">[&quot;G&quot;,&quot;C&quot;]</td></tr>\n",
       "<tr><td style=\"white-space: nowrap; max-width: 500px; overflow: hidden; text-overflow: ellipsis; \">chr1:1609797</td><td style=\"white-space: nowrap; max-width: 500px; overflow: hidden; text-overflow: ellipsis; \">[&quot;C&quot;,&quot;A&quot;]</td><td style=\"white-space: nowrap; max-width: 500px; overflow: hidden; text-overflow: ellipsis; \">[&quot;ga4gh:VA.OaVZm5YGXcfStVXavWNfuRTrBd1DDkOE&quot;,&quot;ga4gh:VA.hdvh-eOrjr2zE22vE2wwfisCFyDqIJLs&quot;]</td><td style=\"white-space: nowrap; max-width: 500px; overflow: hidden; text-overflow: ellipsis; \">[1609796,1609796]</td><td style=\"white-space: nowrap; max-width: 500px; overflow: hidden; text-overflow: ellipsis; \">[1609797,1609797]</td><td style=\"white-space: nowrap; max-width: 500px; overflow: hidden; text-overflow: ellipsis; \">[&quot;C&quot;,&quot;A&quot;]</td></tr>\n",
       "<tr><td style=\"white-space: nowrap; max-width: 500px; overflow: hidden; text-overflow: ellipsis; \">chr1:1956929</td><td style=\"white-space: nowrap; max-width: 500px; overflow: hidden; text-overflow: ellipsis; \">[&quot;C&quot;,&quot;T&quot;]</td><td style=\"white-space: nowrap; max-width: 500px; overflow: hidden; text-overflow: ellipsis; \">[&quot;ga4gh:VA.oFBHgCTUxlabhFGJoIJUUb2Wc06dm8Wq&quot;,&quot;ga4gh:VA.nc_gOGG1k3w-smD9heq-rGsNZiygWLmg&quot;]</td><td style=\"white-space: nowrap; max-width: 500px; overflow: hidden; text-overflow: ellipsis; \">[1956928,1956928]</td><td style=\"white-space: nowrap; max-width: 500px; overflow: hidden; text-overflow: ellipsis; \">[1956929,1956929]</td><td style=\"white-space: nowrap; max-width: 500px; overflow: hidden; text-overflow: ellipsis; \">[&quot;C&quot;,&quot;T&quot;]</td></tr>\n",
       "<tr><td style=\"white-space: nowrap; max-width: 500px; overflow: hidden; text-overflow: ellipsis; \">chr1:2050192</td><td style=\"white-space: nowrap; max-width: 500px; overflow: hidden; text-overflow: ellipsis; \">[&quot;G&quot;,&quot;T&quot;]</td><td style=\"white-space: nowrap; max-width: 500px; overflow: hidden; text-overflow: ellipsis; \">[&quot;ga4gh:VA.0HH5nj2aKhq42gXIGck_qsel5txfVeGG&quot;,&quot;ga4gh:VA.WXXb8CGqm53oi-V5iWrQosSI6pCkXAvu&quot;]</td><td style=\"white-space: nowrap; max-width: 500px; overflow: hidden; text-overflow: ellipsis; \">[2050191,2050191]</td><td style=\"white-space: nowrap; max-width: 500px; overflow: hidden; text-overflow: ellipsis; \">[2050192,2050192]</td><td style=\"white-space: nowrap; max-width: 500px; overflow: hidden; text-overflow: ellipsis; \">[&quot;G&quot;,&quot;T&quot;]</td></tr>\n",
       "</tbody></table><p style=\"background: #fdd; padding: 0.4em;\">showing top 10 rows</p>\n"
      ],
      "text/plain": [
       "+---------------+--------------------------------------+\n",
       "| locus         | alleles                              |\n",
       "+---------------+--------------------------------------+\n",
       "| locus<GRCh38> | array<str>                           |\n",
       "+---------------+--------------------------------------+\n",
       "| chr1:181359   | [\"G\",\"A\"]                            |\n",
       "| chr1:188025   | [\"CT\",\"C\"]                           |\n",
       "| chr1:656991   | [\"C\",\"A\"]                            |\n",
       "| chr1:784850   | [\"T\",\"C\"]                            |\n",
       "| chr1:1195500  | [\"C\",\"CTTTTTTTTTTTTTTTTTTTTTTTTTTT\"] |\n",
       "| chr1:1437566  | [\"T\",\"A\"]                            |\n",
       "| chr1:1565352  | [\"G\",\"C\"]                            |\n",
       "| chr1:1609797  | [\"C\",\"A\"]                            |\n",
       "| chr1:1956929  | [\"C\",\"T\"]                            |\n",
       "| chr1:2050192  | [\"G\",\"T\"]                            |\n",
       "+---------------+--------------------------------------+\n",
       "\n",
       "+------------------------------------------------------------------------------+\n",
       "| <expr>.VRS_Allele_IDs                                                        |\n",
       "+------------------------------------------------------------------------------+\n",
       "| array<str>                                                                   |\n",
       "+------------------------------------------------------------------------------+\n",
       "| [\"ga4gh:VA.eEh6g89W5T6BYEBfqr5iWlCzstrr4prv\",\"ga4gh:VA.B39ZMi5XUoXDpQtD99... |\n",
       "| [\"ga4gh:VA.HKkRXLry1zagNqsl87kCnE8GtpZAwlEk\",\"ga4gh:VA.1yuc7shZw62uIMSnSy... |\n",
       "| [\"ga4gh:VA.5e-OUKRjOOQDsY-s4VM4REi7QlWYxXH7\",\"ga4gh:VA.FP-E9i9g1JWQYY4s_d... |\n",
       "| [\"ga4gh:VA.xvz-aCVre6vRzUWwqgprqk_IaX8dod3f\",\"ga4gh:VA.6_yOdU2NGy0m059esi... |\n",
       "| [\"ga4gh:VA.zuu1f6UjSdHuOfgpUnsDjr8Hp1IZR3ZR\",\"ga4gh:VA.GDE0YwThYWkYr9I7TD... |\n",
       "| [\"ga4gh:VA.MGa22tLs4xWOumLLFextoncdocaNPqd9\",\"ga4gh:VA.pLE3-w_dyB3B9fYJNV... |\n",
       "| [\"ga4gh:VA.DMBcDb_RePs2pqpQjkU_ceFOOzqMq2b4\",\"ga4gh:VA.FuA1UgSggrG3cjNbXa... |\n",
       "| [\"ga4gh:VA.OaVZm5YGXcfStVXavWNfuRTrBd1DDkOE\",\"ga4gh:VA.hdvh-eOrjr2zE22vE2... |\n",
       "| [\"ga4gh:VA.oFBHgCTUxlabhFGJoIJUUb2Wc06dm8Wq\",\"ga4gh:VA.nc_gOGG1k3w-smD9he... |\n",
       "| [\"ga4gh:VA.0HH5nj2aKhq42gXIGck_qsel5txfVeGG\",\"ga4gh:VA.WXXb8CGqm53oi-V5iW... |\n",
       "+------------------------------------------------------------------------------+\n",
       "\n",
       "+-------------------+-------------------+\n",
       "| <expr>.VRS_Starts | <expr>.VRS_Ends   |\n",
       "+-------------------+-------------------+\n",
       "| array<int32>      | array<int32>      |\n",
       "+-------------------+-------------------+\n",
       "| [181358,181358]   | [181359,181359]   |\n",
       "| [188024,188025]   | [188026,188026]   |\n",
       "| [656990,656990]   | [656991,656991]   |\n",
       "| [784849,784849]   | [784850,784850]   |\n",
       "| [1195499,1195500] | [1195500,1195518] |\n",
       "| [1437565,1437565] | [1437566,1437566] |\n",
       "| [1565351,1565351] | [1565352,1565352] |\n",
       "| [1609796,1609796] | [1609797,1609797] |\n",
       "| [1956928,1956928] | [1956929,1956929] |\n",
       "| [2050191,2050191] | [2050192,2050192] |\n",
       "+-------------------+-------------------+\n",
       "\n",
       "+-------------------------------------------------------+\n",
       "| <expr>.VRS_States                                     |\n",
       "+-------------------------------------------------------+\n",
       "| array<str>                                            |\n",
       "+-------------------------------------------------------+\n",
       "| [\"G\",\"A\"]                                             |\n",
       "| [\"CT\",\"\"]                                             |\n",
       "| [\"C\",\"A\"]                                             |\n",
       "| [\"T\",\"C\"]                                             |\n",
       "| [\"C\",\"TTTTTTTTTTTTTTTTTTTTTTTTTTTTTTTTTTTTTTTTTTTTT\"] |\n",
       "| [\"T\",\"A\"]                                             |\n",
       "| [\"G\",\"C\"]                                             |\n",
       "| [\"C\",\"A\"]                                             |\n",
       "| [\"C\",\"T\"]                                             |\n",
       "| [\"G\",\"T\"]                                             |\n",
       "+-------------------------------------------------------+\n",
       "showing top 10 rows"
      ]
     },
     "metadata": {},
     "output_type": "display_data"
    }
   ],
   "source": [
    "ht_reformat = ht.annotate(\n",
    "        info = ht.info.annotate(\n",
    "                vrs = ht.info.vrs.annotate(\n",
    "                    VRS_Allele_IDs = ht.info.vrs.VRS_Allele_IDs.split(','),\n",
    "                    VRS_Starts = [hl.int(ht.info.vrs.VRS_Starts.split(',')[0]),hl.int(ht.info.vrs.VRS_Starts.split(',')[1])],\n",
    "                    VRS_Ends = [hl.int(ht.info.vrs.VRS_Ends.split(',')[0]),hl.int(ht.info.vrs.VRS_Ends.split(',')[1])],\n",
    "                    VRS_States = ht.info.vrs.VRS_States.split(',')\n",
    "                )\n",
    "        )\n",
    "    )\n",
    "\n",
    "ht_reformat.info.vrs.show()"
   ]
  },
  {
   "cell_type": "code",
   "execution_count": null,
   "id": "8124157b",
   "metadata": {},
   "outputs": [
    {
     "name": "stdout",
     "output_type": "stream",
     "text": [
      "Outputting to:  gs://gnomad-vrs-io-finals/ht-outputs/0421_1miltest_v312-Full-ht-release-output_ga4gh0_8_2_schema.ht\n"
     ]
    }
   ],
   "source": [
    "# Outputting updated table with path appended to include and state the update \n",
    "\n",
    "ht_output_path = ''.join(import_path.split('.')[:-1]) +'_ga4gh0_8_2_schema.ht'\n",
    "print('Outputting to: ',ht_output_path)\n",
    "ht_reformat = ht_reformat.checkpoint(ht_output_path,overwrite=True)"
   ]
  },
  {
   "cell_type": "code",
   "execution_count": null,
   "id": "f65cc71d",
   "metadata": {},
   "outputs": [],
   "source": []
  }
 ],
 "metadata": {
  "celltoolbar": "Raw Cell Format",
  "kernelspec": {
   "display_name": "Python 3",
   "language": "python",
   "name": "python3"
  },
  "language_info": {
   "codemirror_mode": {
    "name": "ipython",
    "version": 3
   },
   "file_extension": ".py",
   "mimetype": "text/x-python",
   "name": "python",
   "nbconvert_exporter": "python",
   "pygments_lexer": "ipython3",
   "version": "3.10.8"
  }
 },
 "nbformat": 4,
 "nbformat_minor": 5
}
